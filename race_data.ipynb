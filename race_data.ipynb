{
 "cells": [
  {
   "cell_type": "code",
   "execution_count": 1,
   "metadata": {},
   "outputs": [],
   "source": [
    "# imports\n",
    "import lxml.html as lh\n",
    "import pandas as pd\n",
    "from bs4 import BeautifulSoup\n",
    "import json\n",
    "import requests\n",
    "import matplotlib.pyplot as plt\n",
    "from functools import reduce\n",
    "\n",
    "\n",
    "%matplotlib inline"
   ]
  },
  {
   "cell_type": "code",
   "execution_count": 2,
   "metadata": {},
   "outputs": [],
   "source": [
    "race_json = []\n",
    "with open('ultrasignup/races.txt', 'r') as f:\n",
    "    for line in f:\n",
    "        line = line[:-2]\n",
    "        race_json.append(line[line.rfind('=')+1:])"
   ]
  },
  {
   "cell_type": "code",
   "execution_count": 3,
   "metadata": {},
   "outputs": [],
   "source": [
    "race_json = list(dict.fromkeys(race_json)) # remove duplicates"
   ]
  },
  {
   "cell_type": "code",
   "execution_count": 4,
   "metadata": {},
   "outputs": [
    {
     "data": {
      "text/plain": [
       "189"
      ]
     },
     "execution_count": 4,
     "metadata": {},
     "output_type": "execute_result"
    }
   ],
   "source": [
    "# base url\n",
    "url = 'http://ultrasignup.com/service/events.svc/results/{}/json?_search=false'\n",
    "\n",
    "count = 0\n",
    "df_list = []\n",
    "\n",
    "# grab the data\n",
    "for i in race_json:\n",
    "    try:\n",
    "        page = requests.get(url.format(i))\n",
    "        results = page.json()\n",
    "    except json.JSONDecodeError:\n",
    "        continue\n",
    "    # create df from JSON\n",
    "    globals()['df' + str(count)] = pd.DataFrame.from_records(results)\n",
    "    if len(globals()['df' + str(count)]) > 3: # arbitrary number but ensures no empty df comes in\n",
    "        df_list.append(globals()['df' + str(count)])\n",
    "    count += 1\n",
    "# combine dfs into a final df \n",
    "df = reduce(lambda left,right: pd.merge(left,right,how='outer'), df_list)\n",
    "len(df_list) # number of races scraped that had JSON"
   ]
  },
  {
   "cell_type": "code",
   "execution_count": 5,
   "metadata": {},
   "outputs": [
    {
     "data": {
      "text/html": [
       "<div>\n",
       "<style scoped>\n",
       "    .dataframe tbody tr th:only-of-type {\n",
       "        vertical-align: middle;\n",
       "    }\n",
       "\n",
       "    .dataframe tbody tr th {\n",
       "        vertical-align: top;\n",
       "    }\n",
       "\n",
       "    .dataframe thead th {\n",
       "        text-align: right;\n",
       "    }\n",
       "</style>\n",
       "<table border=\"1\" class=\"dataframe\">\n",
       "  <thead>\n",
       "    <tr style=\"text-align: right;\">\n",
       "      <th></th>\n",
       "      <th>age</th>\n",
       "      <th>city</th>\n",
       "      <th>firstname</th>\n",
       "      <th>formattime</th>\n",
       "      <th>gender</th>\n",
       "      <th>gender_place</th>\n",
       "      <th>lastname</th>\n",
       "      <th>place</th>\n",
       "      <th>runner_rank</th>\n",
       "      <th>state</th>\n",
       "    </tr>\n",
       "  </thead>\n",
       "  <tbody>\n",
       "    <tr>\n",
       "      <th>3</th>\n",
       "      <td>32</td>\n",
       "      <td>Alamo</td>\n",
       "      <td>Kevin</td>\n",
       "      <td>21:28:00</td>\n",
       "      <td>M</td>\n",
       "      <td>4</td>\n",
       "      <td>Sawchuk</td>\n",
       "      <td>4</td>\n",
       "      <td>89.99</td>\n",
       "      <td>CA</td>\n",
       "    </tr>\n",
       "    <tr>\n",
       "      <th>94</th>\n",
       "      <td>58</td>\n",
       "      <td>Oakland</td>\n",
       "      <td>Errol</td>\n",
       "      <td>33:04:00</td>\n",
       "      <td>M</td>\n",
       "      <td>82</td>\n",
       "      <td>Jones</td>\n",
       "      <td>95</td>\n",
       "      <td>73.79</td>\n",
       "      <td>CA</td>\n",
       "    </tr>\n",
       "    <tr>\n",
       "      <th>96</th>\n",
       "      <td>43</td>\n",
       "      <td>Austin</td>\n",
       "      <td>Joe</td>\n",
       "      <td>33:04:00</td>\n",
       "      <td>M</td>\n",
       "      <td>84</td>\n",
       "      <td>Prusaitis</td>\n",
       "      <td>97</td>\n",
       "      <td>65.27</td>\n",
       "      <td>TX</td>\n",
       "    </tr>\n",
       "    <tr>\n",
       "      <th>119</th>\n",
       "      <td>33</td>\n",
       "      <td>Goleta</td>\n",
       "      <td>John</td>\n",
       "      <td>34:27:00</td>\n",
       "      <td>M</td>\n",
       "      <td>103</td>\n",
       "      <td>Hoenigman</td>\n",
       "      <td>120</td>\n",
       "      <td>66.63</td>\n",
       "      <td>CA</td>\n",
       "    </tr>\n",
       "    <tr>\n",
       "      <th>152</th>\n",
       "      <td>22</td>\n",
       "      <td>Los Alamos</td>\n",
       "      <td>Kyle</td>\n",
       "      <td>19:35:14</td>\n",
       "      <td>M</td>\n",
       "      <td>1</td>\n",
       "      <td>Skaggs</td>\n",
       "      <td>1</td>\n",
       "      <td>99.44</td>\n",
       "      <td>NM</td>\n",
       "    </tr>\n",
       "  </tbody>\n",
       "</table>\n",
       "</div>"
      ],
      "text/plain": [
       "     age        city firstname formattime gender  gender_place   lastname  \\\n",
       "3     32       Alamo     Kevin   21:28:00      M             4    Sawchuk   \n",
       "94    58     Oakland     Errol   33:04:00      M            82      Jones   \n",
       "96    43      Austin       Joe   33:04:00      M            84  Prusaitis   \n",
       "119   33      Goleta      John   34:27:00      M           103  Hoenigman   \n",
       "152   22  Los Alamos      Kyle   19:35:14      M             1     Skaggs   \n",
       "\n",
       "     place  runner_rank state  \n",
       "3        4        89.99    CA  \n",
       "94      95        73.79    CA  \n",
       "96      97        65.27    TX  \n",
       "119    120        66.63    CA  \n",
       "152      1        99.44    NM  "
      ]
     },
     "execution_count": 5,
     "metadata": {},
     "output_type": "execute_result"
    }
   ],
   "source": [
    "irrelevant = ['age_rank','photo_count','prior_count','race_count', 'drilldown',\n",
    "              'time', 'status','bib', 'agegroup', 'participant_id'] # do not need these \n",
    "for col in df.columns:\n",
    "    if col in irrelevant:\n",
    "        del df[col]\n",
    "\n",
    "df = df[df.age != 0] # does not contribute\n",
    "df = df[df.state != ''] # does not contribute\n",
    "df.head()"
   ]
  },
  {
   "cell_type": "code",
   "execution_count": 6,
   "metadata": {},
   "outputs": [
    {
     "data": {
      "text/plain": [
       "6809"
      ]
     },
     "execution_count": 6,
     "metadata": {},
     "output_type": "execute_result"
    }
   ],
   "source": [
    "len(df) # number of participants"
   ]
  },
  {
   "cell_type": "code",
   "execution_count": 8,
   "metadata": {},
   "outputs": [
    {
     "data": {
      "text/html": [
       "<div>\n",
       "<style scoped>\n",
       "    .dataframe tbody tr th:only-of-type {\n",
       "        vertical-align: middle;\n",
       "    }\n",
       "\n",
       "    .dataframe tbody tr th {\n",
       "        vertical-align: top;\n",
       "    }\n",
       "\n",
       "    .dataframe thead th {\n",
       "        text-align: right;\n",
       "    }\n",
       "</style>\n",
       "<table border=\"1\" class=\"dataframe\">\n",
       "  <thead>\n",
       "    <tr style=\"text-align: right;\">\n",
       "      <th></th>\n",
       "      <th>state</th>\n",
       "      <th>avg_age</th>\n",
       "    </tr>\n",
       "  </thead>\n",
       "  <tbody>\n",
       "    <tr>\n",
       "      <th>0</th>\n",
       "      <td>CA</td>\n",
       "      <td>40.86</td>\n",
       "    </tr>\n",
       "    <tr>\n",
       "      <th>1</th>\n",
       "      <td>TX</td>\n",
       "      <td>41.93</td>\n",
       "    </tr>\n",
       "    <tr>\n",
       "      <th>2</th>\n",
       "      <td>NM</td>\n",
       "      <td>44.66</td>\n",
       "    </tr>\n",
       "    <tr>\n",
       "      <th>3</th>\n",
       "      <td>CO</td>\n",
       "      <td>42.34</td>\n",
       "    </tr>\n",
       "    <tr>\n",
       "      <th>4</th>\n",
       "      <td>OR</td>\n",
       "      <td>42.35</td>\n",
       "    </tr>\n",
       "  </tbody>\n",
       "</table>\n",
       "</div>"
      ],
      "text/plain": [
       "  state  avg_age\n",
       "0    CA    40.86\n",
       "1    TX    41.93\n",
       "2    NM    44.66\n",
       "3    CO    42.34\n",
       "4    OR    42.35"
      ]
     },
     "execution_count": 8,
     "metadata": {},
     "output_type": "execute_result"
    }
   ],
   "source": [
    "# lists to create various dataframe\n",
    "states = []\n",
    "ages = []\n",
    "num_part = []\n",
    "\n",
    "\n",
    "# create empty dataframes\n",
    "age_df = pd.DataFrame(columns=['state', 'avg_age'])\n",
    "part_df = pd.DataFrame(columns=['state', 'participants'])\n",
    "\n",
    "# iterate through each state\n",
    "for state in df.state.unique():\n",
    "    # find the average age and number of participants\n",
    "    if df['state'].value_counts()[state] > 25:\n",
    "        sum_age = df.loc[df['state'] == state, 'age'].sum()\n",
    "        num_part.append(df['state'].value_counts()[state])\n",
    "        avg_age = \"{0:.2f}\".format(sum_age / df['state'].value_counts()[state])\n",
    "        states.append(state)\n",
    "        ages.append(float(avg_age))\n",
    "        \n",
    "    else:\n",
    "        df = df[df['state'] != state] # remove the small num of states\n",
    "        \n",
    "df.age.astype(int)\n",
    "# populate the dataframes\n",
    "age_df['state'] = states\n",
    "age_df['avg_age'] = ages\n",
    "part_df['state'] = states\n",
    "part_df['participants'] = num_part\n",
    "age_df.head()"
   ]
  },
  {
   "cell_type": "code",
   "execution_count": 9,
   "metadata": {},
   "outputs": [
    {
     "data": {
      "text/html": [
       "<div>\n",
       "<style scoped>\n",
       "    .dataframe tbody tr th:only-of-type {\n",
       "        vertical-align: middle;\n",
       "    }\n",
       "\n",
       "    .dataframe tbody tr th {\n",
       "        vertical-align: top;\n",
       "    }\n",
       "\n",
       "    .dataframe thead th {\n",
       "        text-align: right;\n",
       "    }\n",
       "</style>\n",
       "<table border=\"1\" class=\"dataframe\">\n",
       "  <thead>\n",
       "    <tr style=\"text-align: right;\">\n",
       "      <th></th>\n",
       "      <th>state</th>\n",
       "      <th>participants</th>\n",
       "    </tr>\n",
       "  </thead>\n",
       "  <tbody>\n",
       "    <tr>\n",
       "      <th>0</th>\n",
       "      <td>CA</td>\n",
       "      <td>4177</td>\n",
       "    </tr>\n",
       "    <tr>\n",
       "      <th>1</th>\n",
       "      <td>TX</td>\n",
       "      <td>83</td>\n",
       "    </tr>\n",
       "    <tr>\n",
       "      <th>2</th>\n",
       "      <td>NM</td>\n",
       "      <td>92</td>\n",
       "    </tr>\n",
       "    <tr>\n",
       "      <th>3</th>\n",
       "      <td>CO</td>\n",
       "      <td>168</td>\n",
       "    </tr>\n",
       "    <tr>\n",
       "      <th>4</th>\n",
       "      <td>OR</td>\n",
       "      <td>452</td>\n",
       "    </tr>\n",
       "    <tr>\n",
       "      <th>5</th>\n",
       "      <td>VA</td>\n",
       "      <td>51</td>\n",
       "    </tr>\n",
       "    <tr>\n",
       "      <th>6</th>\n",
       "      <td>UT</td>\n",
       "      <td>128</td>\n",
       "    </tr>\n",
       "    <tr>\n",
       "      <th>7</th>\n",
       "      <td>ID</td>\n",
       "      <td>33</td>\n",
       "    </tr>\n",
       "    <tr>\n",
       "      <th>8</th>\n",
       "      <td>WA</td>\n",
       "      <td>230</td>\n",
       "    </tr>\n",
       "    <tr>\n",
       "      <th>9</th>\n",
       "      <td>NY</td>\n",
       "      <td>56</td>\n",
       "    </tr>\n",
       "    <tr>\n",
       "      <th>10</th>\n",
       "      <td>NV</td>\n",
       "      <td>193</td>\n",
       "    </tr>\n",
       "    <tr>\n",
       "      <th>11</th>\n",
       "      <td>AZ</td>\n",
       "      <td>56</td>\n",
       "    </tr>\n",
       "    <tr>\n",
       "      <th>12</th>\n",
       "      <td>MA</td>\n",
       "      <td>46</td>\n",
       "    </tr>\n",
       "    <tr>\n",
       "      <th>13</th>\n",
       "      <td>MD</td>\n",
       "      <td>52</td>\n",
       "    </tr>\n",
       "    <tr>\n",
       "      <th>14</th>\n",
       "      <td>NC</td>\n",
       "      <td>107</td>\n",
       "    </tr>\n",
       "    <tr>\n",
       "      <th>15</th>\n",
       "      <td>TN</td>\n",
       "      <td>69</td>\n",
       "    </tr>\n",
       "    <tr>\n",
       "      <th>16</th>\n",
       "      <td>WI</td>\n",
       "      <td>27</td>\n",
       "    </tr>\n",
       "    <tr>\n",
       "      <th>17</th>\n",
       "      <td>PA</td>\n",
       "      <td>54</td>\n",
       "    </tr>\n",
       "    <tr>\n",
       "      <th>18</th>\n",
       "      <td>FL</td>\n",
       "      <td>42</td>\n",
       "    </tr>\n",
       "    <tr>\n",
       "      <th>19</th>\n",
       "      <td>IL</td>\n",
       "      <td>32</td>\n",
       "    </tr>\n",
       "    <tr>\n",
       "      <th>20</th>\n",
       "      <td>MN</td>\n",
       "      <td>40</td>\n",
       "    </tr>\n",
       "    <tr>\n",
       "      <th>21</th>\n",
       "      <td>KS</td>\n",
       "      <td>32</td>\n",
       "    </tr>\n",
       "    <tr>\n",
       "      <th>22</th>\n",
       "      <td>GA</td>\n",
       "      <td>79</td>\n",
       "    </tr>\n",
       "    <tr>\n",
       "      <th>23</th>\n",
       "      <td>IN</td>\n",
       "      <td>32</td>\n",
       "    </tr>\n",
       "    <tr>\n",
       "      <th>24</th>\n",
       "      <td>HI</td>\n",
       "      <td>32</td>\n",
       "    </tr>\n",
       "    <tr>\n",
       "      <th>25</th>\n",
       "      <td>AL</td>\n",
       "      <td>102</td>\n",
       "    </tr>\n",
       "    <tr>\n",
       "      <th>26</th>\n",
       "      <td>OH</td>\n",
       "      <td>42</td>\n",
       "    </tr>\n",
       "    <tr>\n",
       "      <th>27</th>\n",
       "      <td>KY</td>\n",
       "      <td>34</td>\n",
       "    </tr>\n",
       "  </tbody>\n",
       "</table>\n",
       "</div>"
      ],
      "text/plain": [
       "   state  participants\n",
       "0     CA          4177\n",
       "1     TX            83\n",
       "2     NM            92\n",
       "3     CO           168\n",
       "4     OR           452\n",
       "5     VA            51\n",
       "6     UT           128\n",
       "7     ID            33\n",
       "8     WA           230\n",
       "9     NY            56\n",
       "10    NV           193\n",
       "11    AZ            56\n",
       "12    MA            46\n",
       "13    MD            52\n",
       "14    NC           107\n",
       "15    TN            69\n",
       "16    WI            27\n",
       "17    PA            54\n",
       "18    FL            42\n",
       "19    IL            32\n",
       "20    MN            40\n",
       "21    KS            32\n",
       "22    GA            79\n",
       "23    IN            32\n",
       "24    HI            32\n",
       "25    AL           102\n",
       "26    OH            42\n",
       "27    KY            34"
      ]
     },
     "execution_count": 9,
     "metadata": {},
     "output_type": "execute_result"
    }
   ],
   "source": [
    " # states with only one participant dont add much\n",
    "part_df.head(100)"
   ]
  },
  {
   "cell_type": "code",
   "execution_count": 10,
   "metadata": {},
   "outputs": [
    {
     "data": {
      "text/plain": [
       "<matplotlib.axes._subplots.AxesSubplot at 0x121a80400>"
      ]
     },
     "execution_count": 10,
     "metadata": {},
     "output_type": "execute_result"
    },
    {
     "data": {
      "image/png": "[encoded data removed]",
      "text/plain": [
       "<Figure size 432x288 with 1 Axes>"
      ]
     },
     "metadata": {},
     "output_type": "display_data"
    }
   ],
   "source": [
    "import seaborn as sns # visualize avg age\n",
    "sns.set(style=\"ticks\", color_codes=True)\n",
    "\n",
    "plt.xticks(rotation=90,fontsize=10) # due this to avoid crowding\n",
    "plt.title('Average Age By State')\n",
    "sns.barplot(x='state', y='avg_age',data=age_df) # TODO visualize this better\n",
    "\n"
   ]
  },
  {
   "cell_type": "code",
   "execution_count": 11,
   "metadata": {},
   "outputs": [
    {
     "data": {
      "text/plain": [
       "<matplotlib.axes._subplots.AxesSubplot at 0x123ca6320>"
      ]
     },
     "execution_count": 11,
     "metadata": {},
     "output_type": "execute_result"
    },
    {
     "data": {
      "image/png": "[encoded data removed]",
      "text/plain": [
       "<Figure size 432x288 with 1 Axes>"
      ]
     },
     "metadata": {},
     "output_type": "display_data"
    }
   ],
   "source": [
    "plt.xticks(rotation=90)\n",
    "plt.title('Number Of Participants By State')\n",
    "sns.barplot(x='state', y='participants',data=part_df)"
   ]
  },
  {
   "cell_type": "code",
   "execution_count": 12,
   "metadata": {},
   "outputs": [
    {
     "data": {
      "text/plain": [
       "<matplotlib.axes._subplots.AxesSubplot at 0x123e6e390>"
      ]
     },
     "execution_count": 12,
     "metadata": {},
     "output_type": "execute_result"
    },
    {
     "data": {
      "image/png": "[encoded data removed]",
      "text/plain": [
       "<Figure size 432x288 with 1 Axes>"
      ]
     },
     "metadata": {},
     "output_type": "display_data"
    }
   ],
   "source": [
    "plt.xticks(rotation=90,fontsize=10)\n",
    "sns.boxplot(x='state', y='age', data=df) # TODO clean this up a bit"
   ]
  },
  {
   "cell_type": "code",
   "execution_count": null,
   "metadata": {},
   "outputs": [],
   "source": []
  }
 ],
 "metadata": {
  "kernelspec": {
   "display_name": "Python 3",
   "language": "python",
   "name": "python3"
  },
  "language_info": {
   "codemirror_mode": {
    "name": "ipython",
    "version": 3
   },
   "file_extension": ".py",
   "mimetype": "text/x-python",
   "name": "python",
   "nbconvert_exporter": "python",
   "pygments_lexer": "ipython3",
   "version": "3.7.0"
  }
 },
 "nbformat": 4,
 "nbformat_minor": 2
}
