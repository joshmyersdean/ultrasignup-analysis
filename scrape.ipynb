{
 "cells": [
  {
   "cell_type": "code",
   "execution_count": 1,
   "metadata": {},
   "outputs": [],
   "source": [
    "# imports\n",
    "import lxml.html as lh\n",
    "import pandas as pd\n",
    "from bs4 import BeautifulSoup\n",
    "import json\n",
    "import requests\n",
    "import matplotlib.pyplot as plt\n",
    "%matplotlib inline"
   ]
  },
  {
   "cell_type": "code",
   "execution_count": 2,
   "metadata": {},
   "outputs": [],
   "source": [
    "''' TODO actually make this into a list'''\n",
    "url = 'http://ultrasignup.com/service/events.svc/results/51691/json?_search=false'\n",
    "# grab the data\n",
    "page = requests.get(url)\n",
    "soup = BeautifulSoup(page.text, 'lxml')\n",
    "results = page.json()\n",
    "\n",
    "# create df from JSON\n",
    "df = pd.DataFrame.from_records(results)"
   ]
  },
  {
   "cell_type": "code",
   "execution_count": 3,
   "metadata": {},
   "outputs": [
    {
     "data": {
      "text/html": [
       "<div>\n",
       "<style scoped>\n",
       "    .dataframe tbody tr th:only-of-type {\n",
       "        vertical-align: middle;\n",
       "    }\n",
       "\n",
       "    .dataframe tbody tr th {\n",
       "        vertical-align: top;\n",
       "    }\n",
       "\n",
       "    .dataframe thead th {\n",
       "        text-align: right;\n",
       "    }\n",
       "</style>\n",
       "<table border=\"1\" class=\"dataframe\">\n",
       "  <thead>\n",
       "    <tr style=\"text-align: right;\">\n",
       "      <th></th>\n",
       "      <th>age</th>\n",
       "      <th>agegroup</th>\n",
       "      <th>bib</th>\n",
       "      <th>city</th>\n",
       "      <th>firstname</th>\n",
       "      <th>formattime</th>\n",
       "      <th>gender</th>\n",
       "      <th>gender_place</th>\n",
       "      <th>lastname</th>\n",
       "      <th>participant_id</th>\n",
       "      <th>place</th>\n",
       "      <th>runner_rank</th>\n",
       "      <th>state</th>\n",
       "    </tr>\n",
       "  </thead>\n",
       "  <tbody>\n",
       "    <tr>\n",
       "      <th>0</th>\n",
       "      <td>34</td>\n",
       "      <td>30-39</td>\n",
       "      <td>98</td>\n",
       "      <td>Richland</td>\n",
       "      <td>Jesse</td>\n",
       "      <td>18:03:00</td>\n",
       "      <td>M</td>\n",
       "      <td>1</td>\n",
       "      <td>Lang</td>\n",
       "      <td>240580</td>\n",
       "      <td>1</td>\n",
       "      <td>90.20</td>\n",
       "      <td>WA</td>\n",
       "    </tr>\n",
       "    <tr>\n",
       "      <th>1</th>\n",
       "      <td>36</td>\n",
       "      <td>30-39</td>\n",
       "      <td>26</td>\n",
       "      <td>Spokane</td>\n",
       "      <td>Brandon</td>\n",
       "      <td>19:05:48</td>\n",
       "      <td>M</td>\n",
       "      <td>2</td>\n",
       "      <td>Benefield</td>\n",
       "      <td>917459</td>\n",
       "      <td>2</td>\n",
       "      <td>92.77</td>\n",
       "      <td>WA</td>\n",
       "    </tr>\n",
       "    <tr>\n",
       "      <th>2</th>\n",
       "      <td>38</td>\n",
       "      <td>30-39</td>\n",
       "      <td>74</td>\n",
       "      <td>San Diego</td>\n",
       "      <td>Lindsay</td>\n",
       "      <td>19:49:31</td>\n",
       "      <td>M</td>\n",
       "      <td>3</td>\n",
       "      <td>Hamoudi</td>\n",
       "      <td>336440</td>\n",
       "      <td>3</td>\n",
       "      <td>84.33</td>\n",
       "      <td>CA</td>\n",
       "    </tr>\n",
       "    <tr>\n",
       "      <th>3</th>\n",
       "      <td>33</td>\n",
       "      <td>30-39</td>\n",
       "      <td>30</td>\n",
       "      <td>Issaquah</td>\n",
       "      <td>Bryan</td>\n",
       "      <td>21:54:27</td>\n",
       "      <td>M</td>\n",
       "      <td>4</td>\n",
       "      <td>Bhark</td>\n",
       "      <td>672855</td>\n",
       "      <td>4</td>\n",
       "      <td>94.01</td>\n",
       "      <td>WA</td>\n",
       "    </tr>\n",
       "    <tr>\n",
       "      <th>4</th>\n",
       "      <td>32</td>\n",
       "      <td>30-39</td>\n",
       "      <td>170</td>\n",
       "      <td>Kirkland</td>\n",
       "      <td>Phil</td>\n",
       "      <td>21:55:56</td>\n",
       "      <td>M</td>\n",
       "      <td>5</td>\n",
       "      <td>Shaw</td>\n",
       "      <td>2034</td>\n",
       "      <td>5</td>\n",
       "      <td>91.41</td>\n",
       "      <td>WA</td>\n",
       "    </tr>\n",
       "  </tbody>\n",
       "</table>\n",
       "</div>"
      ],
      "text/plain": [
       "   age agegroup  bib       city firstname formattime gender  gender_place  \\\n",
       "0   34    30-39   98   Richland     Jesse   18:03:00      M             1   \n",
       "1   36    30-39   26    Spokane   Brandon   19:05:48      M             2   \n",
       "2   38    30-39   74  San Diego   Lindsay   19:49:31      M             3   \n",
       "3   33    30-39   30   Issaquah     Bryan   21:54:27      M             4   \n",
       "4   32    30-39  170   Kirkland      Phil   21:55:56      M             5   \n",
       "\n",
       "    lastname  participant_id  place  runner_rank state  \n",
       "0       Lang          240580      1        90.20    WA  \n",
       "1  Benefield          917459      2        92.77    WA  \n",
       "2    Hamoudi          336440      3        84.33    CA  \n",
       "3      Bhark          672855      4        94.01    WA  \n",
       "4       Shaw            2034      5        91.41    WA  "
      ]
     },
     "execution_count": 3,
     "metadata": {},
     "output_type": "execute_result"
    }
   ],
   "source": [
    "irrelevant = ['age_rank','photo_count','prior_count','race_count', 'drilldown','time', 'status'] # do not need these \n",
    "for col in df.columns:\n",
    "    if col in irrelevant:\n",
    "        del df[col]\n",
    "df.head()"
   ]
  },
  {
   "cell_type": "code",
   "execution_count": 4,
   "metadata": {},
   "outputs": [
    {
     "data": {
      "text/html": [
       "<div>\n",
       "<style scoped>\n",
       "    .dataframe tbody tr th:only-of-type {\n",
       "        vertical-align: middle;\n",
       "    }\n",
       "\n",
       "    .dataframe tbody tr th {\n",
       "        vertical-align: top;\n",
       "    }\n",
       "\n",
       "    .dataframe thead th {\n",
       "        text-align: right;\n",
       "    }\n",
       "</style>\n",
       "<table border=\"1\" class=\"dataframe\">\n",
       "  <thead>\n",
       "    <tr style=\"text-align: right;\">\n",
       "      <th></th>\n",
       "      <th>state</th>\n",
       "      <th>avg_age</th>\n",
       "    </tr>\n",
       "  </thead>\n",
       "  <tbody>\n",
       "    <tr>\n",
       "      <th>0</th>\n",
       "      <td>WA</td>\n",
       "      <td>42.08</td>\n",
       "    </tr>\n",
       "    <tr>\n",
       "      <th>1</th>\n",
       "      <td>CA</td>\n",
       "      <td>38.47</td>\n",
       "    </tr>\n",
       "    <tr>\n",
       "      <th>2</th>\n",
       "      <td>OR</td>\n",
       "      <td>40.67</td>\n",
       "    </tr>\n",
       "    <tr>\n",
       "      <th>3</th>\n",
       "      <td>ID</td>\n",
       "      <td>38.00</td>\n",
       "    </tr>\n",
       "    <tr>\n",
       "      <th>4</th>\n",
       "      <td>MT</td>\n",
       "      <td>43.75</td>\n",
       "    </tr>\n",
       "  </tbody>\n",
       "</table>\n",
       "</div>"
      ],
      "text/plain": [
       "  state  avg_age\n",
       "0    WA    42.08\n",
       "1    CA    38.47\n",
       "2    OR    40.67\n",
       "3    ID    38.00\n",
       "4    MT    43.75"
      ]
     },
     "execution_count": 4,
     "metadata": {},
     "output_type": "execute_result"
    }
   ],
   "source": [
    "# lists to create various dataframe\n",
    "states = []\n",
    "ages = []\n",
    "num_part = []\n",
    "\n",
    "# create empty dataframes\n",
    "age_df = pd.DataFrame(columns=['state', 'avg_age'])\n",
    "part_df = pd.DataFrame(columns=['state', 'participants'])\n",
    "\n",
    "# iterate through each state\n",
    "for state in df.state.unique():\n",
    "    # find the average age and number of participants\n",
    "    sum_age = df.loc[df['state'] == state, 'age'].sum()\n",
    "    num_part.append(df['state'].value_counts()[state])\n",
    "    avg_age = \"{0:.2f}\".format(sum_age / len(df[df['state'] == state]))\n",
    "    states.append(state)\n",
    "    ages.append(float(avg_age))\n",
    "\n",
    "# populate the dataframes\n",
    "age_df['state'] = states\n",
    "age_df['avg_age'] = ages\n",
    "part_df['state'] = states\n",
    "part_df['participants'] = num_part\n",
    "age_df.head()"
   ]
  },
  {
   "cell_type": "code",
   "execution_count": 5,
   "metadata": {},
   "outputs": [
    {
     "data": {
      "text/html": [
       "<div>\n",
       "<style scoped>\n",
       "    .dataframe tbody tr th:only-of-type {\n",
       "        vertical-align: middle;\n",
       "    }\n",
       "\n",
       "    .dataframe tbody tr th {\n",
       "        vertical-align: top;\n",
       "    }\n",
       "\n",
       "    .dataframe thead th {\n",
       "        text-align: right;\n",
       "    }\n",
       "</style>\n",
       "<table border=\"1\" class=\"dataframe\">\n",
       "  <thead>\n",
       "    <tr style=\"text-align: right;\">\n",
       "      <th></th>\n",
       "      <th>state</th>\n",
       "      <th>participants</th>\n",
       "    </tr>\n",
       "  </thead>\n",
       "  <tbody>\n",
       "    <tr>\n",
       "      <th>0</th>\n",
       "      <td>WA</td>\n",
       "      <td>60</td>\n",
       "    </tr>\n",
       "    <tr>\n",
       "      <th>1</th>\n",
       "      <td>CA</td>\n",
       "      <td>19</td>\n",
       "    </tr>\n",
       "    <tr>\n",
       "      <th>2</th>\n",
       "      <td>OR</td>\n",
       "      <td>12</td>\n",
       "    </tr>\n",
       "    <tr>\n",
       "      <th>3</th>\n",
       "      <td>ID</td>\n",
       "      <td>2</td>\n",
       "    </tr>\n",
       "    <tr>\n",
       "      <th>4</th>\n",
       "      <td>MT</td>\n",
       "      <td>4</td>\n",
       "    </tr>\n",
       "  </tbody>\n",
       "</table>\n",
       "</div>"
      ],
      "text/plain": [
       "  state  participants\n",
       "0    WA            60\n",
       "1    CA            19\n",
       "2    OR            12\n",
       "3    ID             2\n",
       "4    MT             4"
      ]
     },
     "execution_count": 5,
     "metadata": {},
     "output_type": "execute_result"
    }
   ],
   "source": [
    "part_df.head() "
   ]
  },
  {
   "cell_type": "code",
   "execution_count": 6,
   "metadata": {},
   "outputs": [
    {
     "data": {
      "text/plain": [
       "<matplotlib.axes._subplots.AxesSubplot at 0x12a32f6d8>"
      ]
     },
     "execution_count": 6,
     "metadata": {},
     "output_type": "execute_result"
    },
    {
     "data": {
      "image/png": "[encoded data removed]",
      "text/plain": [
       "<Figure size 432x288 with 1 Axes>"
      ]
     },
     "metadata": {},
     "output_type": "display_data"
    }
   ],
   "source": [
    "import seaborn as sns # visualize avg age\n",
    "sns.set(style=\"ticks\", color_codes=True)\n",
    "\n",
    "plt.xticks(rotation=90) # due this to avoid crowding\n",
    "plt.title('Average Age By State')\n",
    "sns.barplot(x='state', y='avg_age',data=age_df)\n",
    "\n"
   ]
  },
  {
   "cell_type": "code",
   "execution_count": 7,
   "metadata": {},
   "outputs": [
    {
     "data": {
      "text/plain": [
       "<matplotlib.axes._subplots.AxesSubplot at 0x12c4b60f0>"
      ]
     },
     "execution_count": 7,
     "metadata": {},
     "output_type": "execute_result"
    },
    {
     "data": {
      "image/png": "[encoded data removed]",
      "text/plain": [
       "<Figure size 432x288 with 1 Axes>"
      ]
     },
     "metadata": {},
     "output_type": "display_data"
    }
   ],
   "source": [
    "plt.xticks(rotation=90)\n",
    "plt.title('Number Of Participants By State')\n",
    "sns.barplot(x='state', y='participants',data=part_df)"
   ]
  },
  {
   "cell_type": "code",
   "execution_count": null,
   "metadata": {},
   "outputs": [],
   "source": []
  }
 ],
 "metadata": {
  "kernelspec": {
   "display_name": "Python 3",
   "language": "python",
   "name": "python3"
  },
  "language_info": {
   "codemirror_mode": {
    "name": "ipython",
    "version": 3
   },
   "file_extension": ".py",
   "mimetype": "text/x-python",
   "name": "python",
   "nbconvert_exporter": "python",
   "pygments_lexer": "ipython3",
   "version": "3.7.0"
  }
 },
 "nbformat": 4,
 "nbformat_minor": 2
}
